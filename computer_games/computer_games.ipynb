{
 "cells": [
  {
   "cell_type": "code",
   "execution_count": 1,
   "id": "8a6700b6-1d03-4a20-a5ac-c882ae9a96a4",
   "metadata": {},
   "outputs": [],
   "source": [
    "import numpy as np\n",
    "import pandas as pd"
   ]
  },
  {
   "cell_type": "raw",
   "id": "e27b70a2-53b1-4dc6-a7ae-da350dead9e4",
   "metadata": {},
   "source": [
    "Computer_Games = pd.read_csv(r\"C:\\Users\\asli_\\OneDrive\\Documents\\GitHub\\data_science_projects\\computer_games.csv\")\n",
    "Computer_Games.head()"
   ]
  },
  {
   "cell_type": "code",
   "execution_count": null,
   "id": "cff5197c-8636-4591-aac3-4f1864c3052b",
   "metadata": {},
   "outputs": [],
   "source": []
  }
 ],
 "metadata": {
  "kernelspec": {
   "display_name": "Python 3 (ipykernel)",
   "language": "python",
   "name": "python3"
  },
  "language_info": {
   "codemirror_mode": {
    "name": "ipython",
    "version": 3
   },
   "file_extension": ".py",
   "mimetype": "text/x-python",
   "name": "python",
   "nbconvert_exporter": "python",
   "pygments_lexer": "ipython3",
   "version": "3.11.7"
  }
 },
 "nbformat": 4,
 "nbformat_minor": 5
}
