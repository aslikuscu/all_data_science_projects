{
 "cells": [
  {
   "cell_type": "code",
   "execution_count": 4,
   "id": "392e3bf1-07e6-4e13-b9f5-9e9d0f7168ae",
   "metadata": {
    "tags": []
   },
   "outputs": [],
   "source": [
    "import pandas as pd"
   ]
  },
  {
   "cell_type": "code",
   "execution_count": 5,
   "id": "d02a8bd1-1ece-4dd3-89b1-b4d7b80b0837",
   "metadata": {
    "tags": []
   },
   "outputs": [],
   "source": [
    "data = pd.read_csv('Credit_Card_Dataset_for_Clustering.csv')"
   ]
  },
  {
   "cell_type": "code",
   "execution_count": 11,
   "id": "dab84cfb-d1b4-42e3-bf5c-7d7dd25ff8dc",
   "metadata": {
    "tags": []
   },
   "outputs": [
    {
     "data": {
      "text/html": [
       "<div>\n",
       "<style scoped>\n",
       "    .dataframe tbody tr th:only-of-type {\n",
       "        vertical-align: middle;\n",
       "    }\n",
       "\n",
       "    .dataframe tbody tr th {\n",
       "        vertical-align: top;\n",
       "    }\n",
       "\n",
       "    .dataframe thead th {\n",
       "        text-align: right;\n",
       "    }\n",
       "</style>\n",
       "<table border=\"1\" class=\"dataframe\">\n",
       "  <thead>\n",
       "    <tr style=\"text-align: right;\">\n",
       "      <th></th>\n",
       "      <th>CUST_ID</th>\n",
       "      <th>BALANCE</th>\n",
       "      <th>BALANCE_FREQUENCY</th>\n",
       "      <th>PURCHASES</th>\n",
       "      <th>ONEOFF_PURCHASES</th>\n",
       "      <th>INSTALLMENTS_PURCHASES</th>\n",
       "      <th>CASH_ADVANCE</th>\n",
       "      <th>PURCHASES_FREQUENCY</th>\n",
       "      <th>ONEOFF_PURCHASES_FREQUENCY</th>\n",
       "      <th>PURCHASES_INSTALLMENTS_FREQUENCY</th>\n",
       "      <th>CASH_ADVANCE_FREQUENCY</th>\n",
       "      <th>CASH_ADVANCE_TRX</th>\n",
       "      <th>PURCHASES_TRX</th>\n",
       "      <th>CREDIT_LIMIT</th>\n",
       "      <th>PAYMENTS</th>\n",
       "      <th>MINIMUM_PAYMENTS</th>\n",
       "      <th>PRC_FULL_PAYMENT</th>\n",
       "      <th>TENURE</th>\n",
       "    </tr>\n",
       "  </thead>\n",
       "  <tbody>\n",
       "    <tr>\n",
       "      <th>0</th>\n",
       "      <td>C10001</td>\n",
       "      <td>40.900749</td>\n",
       "      <td>0.818182</td>\n",
       "      <td>95.40</td>\n",
       "      <td>0.00</td>\n",
       "      <td>95.4</td>\n",
       "      <td>0.000000</td>\n",
       "      <td>0.166667</td>\n",
       "      <td>0.000000</td>\n",
       "      <td>0.083333</td>\n",
       "      <td>0.000000</td>\n",
       "      <td>0</td>\n",
       "      <td>2</td>\n",
       "      <td>1000.0</td>\n",
       "      <td>201.802084</td>\n",
       "      <td>139.509787</td>\n",
       "      <td>0.000000</td>\n",
       "      <td>12</td>\n",
       "    </tr>\n",
       "    <tr>\n",
       "      <th>1</th>\n",
       "      <td>C10002</td>\n",
       "      <td>3202.467416</td>\n",
       "      <td>0.909091</td>\n",
       "      <td>0.00</td>\n",
       "      <td>0.00</td>\n",
       "      <td>0.0</td>\n",
       "      <td>6442.945483</td>\n",
       "      <td>0.000000</td>\n",
       "      <td>0.000000</td>\n",
       "      <td>0.000000</td>\n",
       "      <td>0.250000</td>\n",
       "      <td>4</td>\n",
       "      <td>0</td>\n",
       "      <td>7000.0</td>\n",
       "      <td>4103.032597</td>\n",
       "      <td>1072.340217</td>\n",
       "      <td>0.222222</td>\n",
       "      <td>12</td>\n",
       "    </tr>\n",
       "    <tr>\n",
       "      <th>2</th>\n",
       "      <td>C10003</td>\n",
       "      <td>2495.148862</td>\n",
       "      <td>1.000000</td>\n",
       "      <td>773.17</td>\n",
       "      <td>773.17</td>\n",
       "      <td>0.0</td>\n",
       "      <td>0.000000</td>\n",
       "      <td>1.000000</td>\n",
       "      <td>1.000000</td>\n",
       "      <td>0.000000</td>\n",
       "      <td>0.000000</td>\n",
       "      <td>0</td>\n",
       "      <td>12</td>\n",
       "      <td>7500.0</td>\n",
       "      <td>622.066742</td>\n",
       "      <td>627.284787</td>\n",
       "      <td>0.000000</td>\n",
       "      <td>12</td>\n",
       "    </tr>\n",
       "    <tr>\n",
       "      <th>3</th>\n",
       "      <td>C10004</td>\n",
       "      <td>1666.670542</td>\n",
       "      <td>0.636364</td>\n",
       "      <td>1499.00</td>\n",
       "      <td>1499.00</td>\n",
       "      <td>0.0</td>\n",
       "      <td>205.788017</td>\n",
       "      <td>0.083333</td>\n",
       "      <td>0.083333</td>\n",
       "      <td>0.000000</td>\n",
       "      <td>0.083333</td>\n",
       "      <td>1</td>\n",
       "      <td>1</td>\n",
       "      <td>7500.0</td>\n",
       "      <td>0.000000</td>\n",
       "      <td>NaN</td>\n",
       "      <td>0.000000</td>\n",
       "      <td>12</td>\n",
       "    </tr>\n",
       "    <tr>\n",
       "      <th>4</th>\n",
       "      <td>C10005</td>\n",
       "      <td>817.714335</td>\n",
       "      <td>1.000000</td>\n",
       "      <td>16.00</td>\n",
       "      <td>16.00</td>\n",
       "      <td>0.0</td>\n",
       "      <td>0.000000</td>\n",
       "      <td>0.083333</td>\n",
       "      <td>0.083333</td>\n",
       "      <td>0.000000</td>\n",
       "      <td>0.000000</td>\n",
       "      <td>0</td>\n",
       "      <td>1</td>\n",
       "      <td>1200.0</td>\n",
       "      <td>678.334763</td>\n",
       "      <td>244.791237</td>\n",
       "      <td>0.000000</td>\n",
       "      <td>12</td>\n",
       "    </tr>\n",
       "  </tbody>\n",
       "</table>\n",
       "</div>"
      ],
      "text/plain": [
       "  CUST_ID      BALANCE  BALANCE_FREQUENCY  PURCHASES  ONEOFF_PURCHASES  \\\n",
       "0  C10001    40.900749           0.818182      95.40              0.00   \n",
       "1  C10002  3202.467416           0.909091       0.00              0.00   \n",
       "2  C10003  2495.148862           1.000000     773.17            773.17   \n",
       "3  C10004  1666.670542           0.636364    1499.00           1499.00   \n",
       "4  C10005   817.714335           1.000000      16.00             16.00   \n",
       "\n",
       "   INSTALLMENTS_PURCHASES  CASH_ADVANCE  PURCHASES_FREQUENCY  \\\n",
       "0                    95.4      0.000000             0.166667   \n",
       "1                     0.0   6442.945483             0.000000   \n",
       "2                     0.0      0.000000             1.000000   \n",
       "3                     0.0    205.788017             0.083333   \n",
       "4                     0.0      0.000000             0.083333   \n",
       "\n",
       "   ONEOFF_PURCHASES_FREQUENCY  PURCHASES_INSTALLMENTS_FREQUENCY  \\\n",
       "0                    0.000000                          0.083333   \n",
       "1                    0.000000                          0.000000   \n",
       "2                    1.000000                          0.000000   \n",
       "3                    0.083333                          0.000000   \n",
       "4                    0.083333                          0.000000   \n",
       "\n",
       "   CASH_ADVANCE_FREQUENCY  CASH_ADVANCE_TRX  PURCHASES_TRX  CREDIT_LIMIT  \\\n",
       "0                0.000000                 0              2        1000.0   \n",
       "1                0.250000                 4              0        7000.0   \n",
       "2                0.000000                 0             12        7500.0   \n",
       "3                0.083333                 1              1        7500.0   \n",
       "4                0.000000                 0              1        1200.0   \n",
       "\n",
       "      PAYMENTS  MINIMUM_PAYMENTS  PRC_FULL_PAYMENT  TENURE  \n",
       "0   201.802084        139.509787          0.000000      12  \n",
       "1  4103.032597       1072.340217          0.222222      12  \n",
       "2   622.066742        627.284787          0.000000      12  \n",
       "3     0.000000               NaN          0.000000      12  \n",
       "4   678.334763        244.791237          0.000000      12  "
      ]
     },
     "execution_count": 11,
     "metadata": {},
     "output_type": "execute_result"
    }
   ],
   "source": [
    "# Veri setinin ilk 5 satırını göster\n",
    "data.head()"
   ]
  },
  {
   "cell_type": "code",
   "execution_count": 13,
   "id": "a50bca4a-1f24-4a3c-922b-d72cb873217a",
   "metadata": {
    "tags": []
   },
   "outputs": [
    {
     "data": {
      "text/html": [
       "<div>\n",
       "<style scoped>\n",
       "    .dataframe tbody tr th:only-of-type {\n",
       "        vertical-align: middle;\n",
       "    }\n",
       "\n",
       "    .dataframe tbody tr th {\n",
       "        vertical-align: top;\n",
       "    }\n",
       "\n",
       "    .dataframe thead th {\n",
       "        text-align: right;\n",
       "    }\n",
       "</style>\n",
       "<table border=\"1\" class=\"dataframe\">\n",
       "  <thead>\n",
       "    <tr style=\"text-align: right;\">\n",
       "      <th></th>\n",
       "      <th>BALANCE</th>\n",
       "      <th>BALANCE_FREQUENCY</th>\n",
       "      <th>PURCHASES</th>\n",
       "      <th>ONEOFF_PURCHASES</th>\n",
       "      <th>INSTALLMENTS_PURCHASES</th>\n",
       "      <th>CASH_ADVANCE</th>\n",
       "      <th>PURCHASES_FREQUENCY</th>\n",
       "      <th>ONEOFF_PURCHASES_FREQUENCY</th>\n",
       "      <th>PURCHASES_INSTALLMENTS_FREQUENCY</th>\n",
       "      <th>CASH_ADVANCE_FREQUENCY</th>\n",
       "      <th>CASH_ADVANCE_TRX</th>\n",
       "      <th>PURCHASES_TRX</th>\n",
       "      <th>CREDIT_LIMIT</th>\n",
       "      <th>PAYMENTS</th>\n",
       "      <th>MINIMUM_PAYMENTS</th>\n",
       "      <th>PRC_FULL_PAYMENT</th>\n",
       "      <th>TENURE</th>\n",
       "    </tr>\n",
       "  </thead>\n",
       "  <tbody>\n",
       "    <tr>\n",
       "      <th>count</th>\n",
       "      <td>8950.000000</td>\n",
       "      <td>8950.000000</td>\n",
       "      <td>8950.000000</td>\n",
       "      <td>8950.000000</td>\n",
       "      <td>8950.000000</td>\n",
       "      <td>8950.000000</td>\n",
       "      <td>8950.000000</td>\n",
       "      <td>8950.000000</td>\n",
       "      <td>8950.000000</td>\n",
       "      <td>8950.000000</td>\n",
       "      <td>8950.000000</td>\n",
       "      <td>8950.000000</td>\n",
       "      <td>8949.000000</td>\n",
       "      <td>8950.000000</td>\n",
       "      <td>8637.000000</td>\n",
       "      <td>8950.000000</td>\n",
       "      <td>8950.000000</td>\n",
       "    </tr>\n",
       "    <tr>\n",
       "      <th>mean</th>\n",
       "      <td>1564.474828</td>\n",
       "      <td>0.877271</td>\n",
       "      <td>1003.204834</td>\n",
       "      <td>592.437371</td>\n",
       "      <td>411.067645</td>\n",
       "      <td>978.871112</td>\n",
       "      <td>0.490351</td>\n",
       "      <td>0.202458</td>\n",
       "      <td>0.364437</td>\n",
       "      <td>0.135144</td>\n",
       "      <td>3.248827</td>\n",
       "      <td>14.709832</td>\n",
       "      <td>4494.449450</td>\n",
       "      <td>1733.143852</td>\n",
       "      <td>864.206542</td>\n",
       "      <td>0.153715</td>\n",
       "      <td>11.517318</td>\n",
       "    </tr>\n",
       "    <tr>\n",
       "      <th>std</th>\n",
       "      <td>2081.531879</td>\n",
       "      <td>0.236904</td>\n",
       "      <td>2136.634782</td>\n",
       "      <td>1659.887917</td>\n",
       "      <td>904.338115</td>\n",
       "      <td>2097.163877</td>\n",
       "      <td>0.401371</td>\n",
       "      <td>0.298336</td>\n",
       "      <td>0.397448</td>\n",
       "      <td>0.200121</td>\n",
       "      <td>6.824647</td>\n",
       "      <td>24.857649</td>\n",
       "      <td>3638.815725</td>\n",
       "      <td>2895.063757</td>\n",
       "      <td>2372.446607</td>\n",
       "      <td>0.292499</td>\n",
       "      <td>1.338331</td>\n",
       "    </tr>\n",
       "    <tr>\n",
       "      <th>min</th>\n",
       "      <td>0.000000</td>\n",
       "      <td>0.000000</td>\n",
       "      <td>0.000000</td>\n",
       "      <td>0.000000</td>\n",
       "      <td>0.000000</td>\n",
       "      <td>0.000000</td>\n",
       "      <td>0.000000</td>\n",
       "      <td>0.000000</td>\n",
       "      <td>0.000000</td>\n",
       "      <td>0.000000</td>\n",
       "      <td>0.000000</td>\n",
       "      <td>0.000000</td>\n",
       "      <td>50.000000</td>\n",
       "      <td>0.000000</td>\n",
       "      <td>0.019163</td>\n",
       "      <td>0.000000</td>\n",
       "      <td>6.000000</td>\n",
       "    </tr>\n",
       "    <tr>\n",
       "      <th>25%</th>\n",
       "      <td>128.281915</td>\n",
       "      <td>0.888889</td>\n",
       "      <td>39.635000</td>\n",
       "      <td>0.000000</td>\n",
       "      <td>0.000000</td>\n",
       "      <td>0.000000</td>\n",
       "      <td>0.083333</td>\n",
       "      <td>0.000000</td>\n",
       "      <td>0.000000</td>\n",
       "      <td>0.000000</td>\n",
       "      <td>0.000000</td>\n",
       "      <td>1.000000</td>\n",
       "      <td>1600.000000</td>\n",
       "      <td>383.276166</td>\n",
       "      <td>169.123707</td>\n",
       "      <td>0.000000</td>\n",
       "      <td>12.000000</td>\n",
       "    </tr>\n",
       "    <tr>\n",
       "      <th>50%</th>\n",
       "      <td>873.385231</td>\n",
       "      <td>1.000000</td>\n",
       "      <td>361.280000</td>\n",
       "      <td>38.000000</td>\n",
       "      <td>89.000000</td>\n",
       "      <td>0.000000</td>\n",
       "      <td>0.500000</td>\n",
       "      <td>0.083333</td>\n",
       "      <td>0.166667</td>\n",
       "      <td>0.000000</td>\n",
       "      <td>0.000000</td>\n",
       "      <td>7.000000</td>\n",
       "      <td>3000.000000</td>\n",
       "      <td>856.901546</td>\n",
       "      <td>312.343947</td>\n",
       "      <td>0.000000</td>\n",
       "      <td>12.000000</td>\n",
       "    </tr>\n",
       "    <tr>\n",
       "      <th>75%</th>\n",
       "      <td>2054.140036</td>\n",
       "      <td>1.000000</td>\n",
       "      <td>1110.130000</td>\n",
       "      <td>577.405000</td>\n",
       "      <td>468.637500</td>\n",
       "      <td>1113.821139</td>\n",
       "      <td>0.916667</td>\n",
       "      <td>0.300000</td>\n",
       "      <td>0.750000</td>\n",
       "      <td>0.222222</td>\n",
       "      <td>4.000000</td>\n",
       "      <td>17.000000</td>\n",
       "      <td>6500.000000</td>\n",
       "      <td>1901.134317</td>\n",
       "      <td>825.485459</td>\n",
       "      <td>0.142857</td>\n",
       "      <td>12.000000</td>\n",
       "    </tr>\n",
       "    <tr>\n",
       "      <th>max</th>\n",
       "      <td>19043.138560</td>\n",
       "      <td>1.000000</td>\n",
       "      <td>49039.570000</td>\n",
       "      <td>40761.250000</td>\n",
       "      <td>22500.000000</td>\n",
       "      <td>47137.211760</td>\n",
       "      <td>1.000000</td>\n",
       "      <td>1.000000</td>\n",
       "      <td>1.000000</td>\n",
       "      <td>1.500000</td>\n",
       "      <td>123.000000</td>\n",
       "      <td>358.000000</td>\n",
       "      <td>30000.000000</td>\n",
       "      <td>50721.483360</td>\n",
       "      <td>76406.207520</td>\n",
       "      <td>1.000000</td>\n",
       "      <td>12.000000</td>\n",
       "    </tr>\n",
       "  </tbody>\n",
       "</table>\n",
       "</div>"
      ],
      "text/plain": [
       "            BALANCE  BALANCE_FREQUENCY     PURCHASES  ONEOFF_PURCHASES  \\\n",
       "count   8950.000000        8950.000000   8950.000000       8950.000000   \n",
       "mean    1564.474828           0.877271   1003.204834        592.437371   \n",
       "std     2081.531879           0.236904   2136.634782       1659.887917   \n",
       "min        0.000000           0.000000      0.000000          0.000000   \n",
       "25%      128.281915           0.888889     39.635000          0.000000   \n",
       "50%      873.385231           1.000000    361.280000         38.000000   \n",
       "75%     2054.140036           1.000000   1110.130000        577.405000   \n",
       "max    19043.138560           1.000000  49039.570000      40761.250000   \n",
       "\n",
       "       INSTALLMENTS_PURCHASES  CASH_ADVANCE  PURCHASES_FREQUENCY  \\\n",
       "count             8950.000000   8950.000000          8950.000000   \n",
       "mean               411.067645    978.871112             0.490351   \n",
       "std                904.338115   2097.163877             0.401371   \n",
       "min                  0.000000      0.000000             0.000000   \n",
       "25%                  0.000000      0.000000             0.083333   \n",
       "50%                 89.000000      0.000000             0.500000   \n",
       "75%                468.637500   1113.821139             0.916667   \n",
       "max              22500.000000  47137.211760             1.000000   \n",
       "\n",
       "       ONEOFF_PURCHASES_FREQUENCY  PURCHASES_INSTALLMENTS_FREQUENCY  \\\n",
       "count                 8950.000000                       8950.000000   \n",
       "mean                     0.202458                          0.364437   \n",
       "std                      0.298336                          0.397448   \n",
       "min                      0.000000                          0.000000   \n",
       "25%                      0.000000                          0.000000   \n",
       "50%                      0.083333                          0.166667   \n",
       "75%                      0.300000                          0.750000   \n",
       "max                      1.000000                          1.000000   \n",
       "\n",
       "       CASH_ADVANCE_FREQUENCY  CASH_ADVANCE_TRX  PURCHASES_TRX  CREDIT_LIMIT  \\\n",
       "count             8950.000000       8950.000000    8950.000000   8949.000000   \n",
       "mean                 0.135144          3.248827      14.709832   4494.449450   \n",
       "std                  0.200121          6.824647      24.857649   3638.815725   \n",
       "min                  0.000000          0.000000       0.000000     50.000000   \n",
       "25%                  0.000000          0.000000       1.000000   1600.000000   \n",
       "50%                  0.000000          0.000000       7.000000   3000.000000   \n",
       "75%                  0.222222          4.000000      17.000000   6500.000000   \n",
       "max                  1.500000        123.000000     358.000000  30000.000000   \n",
       "\n",
       "           PAYMENTS  MINIMUM_PAYMENTS  PRC_FULL_PAYMENT       TENURE  \n",
       "count   8950.000000       8637.000000       8950.000000  8950.000000  \n",
       "mean    1733.143852        864.206542          0.153715    11.517318  \n",
       "std     2895.063757       2372.446607          0.292499     1.338331  \n",
       "min        0.000000          0.019163          0.000000     6.000000  \n",
       "25%      383.276166        169.123707          0.000000    12.000000  \n",
       "50%      856.901546        312.343947          0.000000    12.000000  \n",
       "75%     1901.134317        825.485459          0.142857    12.000000  \n",
       "max    50721.483360      76406.207520          1.000000    12.000000  "
      ]
     },
     "execution_count": 13,
     "metadata": {},
     "output_type": "execute_result"
    }
   ],
   "source": [
    "# Temel istatistiksel bilgiler\n",
    "data.describe()"
   ]
  },
  {
   "cell_type": "code",
   "execution_count": 14,
   "id": "41bae1eb-0c89-4fa7-85c2-b7c454c5420e",
   "metadata": {
    "tags": []
   },
   "outputs": [
    {
     "name": "stdout",
     "output_type": "stream",
     "text": [
      "\n",
      "Kredi Limiti ve Bakiye Korelasyonu: 0.5312834611329146\n"
     ]
    }
   ],
   "source": [
    "# Kredi kartı limiti ve bakiye arasındaki korelasyon\n",
    "corr_limit_balance = data['CREDIT_LIMIT'].corr(data['BALANCE'])\n",
    "print(\"\\nKredi Limiti ve Bakiye Korelasyonu:\", corr_limit_balance)"
   ]
  },
  {
   "cell_type": "code",
   "execution_count": 15,
   "id": "6555106a-dde4-43d0-8b76-90b417227f2e",
   "metadata": {
    "tags": []
   },
   "outputs": [
    {
     "name": "stdout",
     "output_type": "stream",
     "text": [
      "Alışveriş Sıklığı ve Nakit Avans Korelasyonu: -0.21550737787778002\n"
     ]
    }
   ],
   "source": [
    "# Alışveriş sıklığı ve nakit avans alımı arasındaki korelasyon\n",
    "corr_freq_cash_advance = data['PURCHASES_FREQUENCY'].corr(data['CASH_ADVANCE'])\n",
    "print(\"Alışveriş Sıklığı ve Nakit Avans Korelasyonu:\", corr_freq_cash_advance)"
   ]
  },
  {
   "cell_type": "code",
   "execution_count": 15,
   "id": "b80bebb6-c32b-44ff-8fc0-b77358f7ce8e",
   "metadata": {
    "tags": []
   },
   "outputs": [
    {
     "name": "stdout",
     "output_type": "stream",
     "text": [
      "Alışveriş Sıklığı ve Toplam Alışveriş Miktarı Korelasyonu: 0.3930174275339076\n"
     ]
    }
   ],
   "source": [
    "# Alışveriş sıklığı ve toplam alışveriş miktarı arasındaki korelasyon\n",
    "corr_freq_purchases = data['PURCHASES_FREQUENCY'].corr(data['PURCHASES'])\n",
    "print(\"Alışveriş Sıklığı ve Toplam Alışveriş Miktarı Korelasyonu:\", corr_freq_purchases)\n"
   ]
  },
  {
   "cell_type": "code",
   "execution_count": 25,
   "id": "d1d47c8d-ed63-4cc3-aeae-aa0a21ec9443",
   "metadata": {
    "tags": []
   },
   "outputs": [
    {
     "name": "stdout",
     "output_type": "stream",
     "text": [
      "Ödeme Oranı ve Minimum Ödemeler Korelasyonu: 0.12665114274837325\n"
     ]
    }
   ],
   "source": [
    "# Ödeme oranı ve minimum ödemeler arasındaki korelasyon\n",
    "corr_payment_min_payments = data['PAYMENTS'].corr(data['MINIMUM_PAYMENTS'])\n",
    "print(\"Ödeme Oranı ve Minimum Ödemeler Korelasyonu:\", corr_payment_min_payments)\n"
   ]
  },
  {
   "cell_type": "code",
   "execution_count": 18,
   "id": "918053cb-9e5d-400a-ae20-fa6eeecbf855",
   "metadata": {
    "tags": []
   },
   "outputs": [
    {
     "name": "stdout",
     "output_type": "stream",
     "text": [
      " Kredi Limiti ve Alışveriş Miktarı Korelasyonu: 0.35696313640278904\n"
     ]
    }
   ],
   "source": [
    "# Kredi limiti ve alışveriş miktarı arasındaki korelasyon\n",
    "corr_credit_limit_purchase = data['CREDIT_LIMIT'].corr(data['PURCHASES'])\n",
    "print(\" Kredi Limiti ve Alışveriş Miktarı Korelasyonu:\", corr_credit_limit_purchase)\n"
   ]
  },
  {
   "cell_type": "code",
   "execution_count": 18,
   "id": "e1ca54e3-896b-4be8-8dc1-34012c16e9da",
   "metadata": {
    "tags": []
   },
   "outputs": [
    {
     "name": "stdout",
     "output_type": "stream",
     "text": [
      "\n",
      "En Yüksek Tek Seferlik Alışveriş Miktarı: 40761.25\n"
     ]
    }
   ],
   "source": [
    "# En yüksek tek seferlik alışveriş miktarı\n",
    "max_oneoff_purchase = data['ONEOFF_PURCHASES'].max()\n",
    "print(\"\\nEn Yüksek Tek Seferlik Alışveriş Miktarı:\", max_oneoff_purchase)"
   ]
  },
  {
   "cell_type": "code",
   "execution_count": 19,
   "id": "97f0cc14-7f3a-4803-b9a4-7112ee49498a",
   "metadata": {
    "tags": []
   },
   "outputs": [
    {
     "name": "stdout",
     "output_type": "stream",
     "text": [
      "En Çok Yapılan Alışveriş Türü: ONEOFF_PURCHASES\n"
     ]
    }
   ],
   "source": [
    "# En çok yapılan alışveriş türü\n",
    "most_common_purchase_type = data[['ONEOFF_PURCHASES', 'INSTALLMENTS_PURCHASES']].idxmax(axis=1).value_counts().idxmax()\n",
    "print(\"En Çok Yapılan Alışveriş Türü:\", most_common_purchase_type)"
   ]
  },
  {
   "cell_type": "code",
   "execution_count": 20,
   "id": "db0ec3fd-37e5-49ba-82ac-e8a5218866fc",
   "metadata": {
    "tags": []
   },
   "outputs": [
    {
     "name": "stdout",
     "output_type": "stream",
     "text": [
      "En Uzun Süreli Müşteri: C10001\n"
     ]
    }
   ],
   "source": [
    "# En uzun süreli müşteri\n",
    "oldest_customer = data.loc[data['TENURE'].idxmax(), 'CUST_ID']\n",
    "print(\"En Uzun Süreli Müşteri:\", oldest_customer)"
   ]
  },
  {
   "cell_type": "code",
   "execution_count": 21,
   "id": "8c45fe7a-3731-4afb-9f22-04d7e815e445",
   "metadata": {
    "tags": []
   },
   "outputs": [
    {
     "name": "stdout",
     "output_type": "stream",
     "text": [
      "\n",
      "Nakit Avans Kullanımı ve Toplam Alışveriş Miktarı Farkının Ortalaması: -24.33372105407822\n"
     ]
    }
   ],
   "source": [
    "# Nakit avans kullanımı ve toplam alışveriş miktarı arasındaki fark\n",
    "data['Cash_vs_Purchases'] = data['CASH_ADVANCE'] - data['PURCHASES']\n",
    "mean_diff_cash_purchases = data['Cash_vs_Purchases'].mean()\n",
    "print(\"\\nNakit Avans Kullanımı ve Toplam Alışveriş Miktarı Farkının Ortalaması:\", mean_diff_cash_purchases)\n"
   ]
  },
  {
   "cell_type": "code",
   "execution_count": 23,
   "id": "1ad46bd3-1b19-4c0c-a5ac-18a9aa1fd540",
   "metadata": {
    "tags": []
   },
   "outputs": [
    {
     "name": "stdout",
     "output_type": "stream",
     "text": [
      "Ödemeler ve Kredi Kartı Limiti Farkının Ortalaması: -2761.1129395136886\n"
     ]
    }
   ],
   "source": [
    "# Ödeme yapma oranı ve kredi kartı limiti arasındaki fark\n",
    "data['Payment_vs_Limit'] = data['PAYMENTS'] - data['CREDIT_LIMIT']\n",
    "mean_diff_payment_limit = data['Payment_vs_Limit'].mean()\n",
    "print(\"Ödemeler ve Kredi Kartı Limiti Farkının Ortalaması:\", mean_diff_payment_limit)\n"
   ]
  },
  {
   "cell_type": "code",
   "execution_count": 26,
   "id": "c65bea5d-3d0d-4fc3-9668-3d5f0d550be8",
   "metadata": {
    "tags": []
   },
   "outputs": [
    {
     "name": "stdout",
     "output_type": "stream",
     "text": [
      "Alışveriş Sıklığı ve Kredi Kartı Limiti Farkının Ortalaması: -4493.959045022348\n"
     ]
    }
   ],
   "source": [
    "# Alışveriş yapma sıklığı ve kredi limiti arasındaki fark\n",
    "data['Freq_vs_Limit'] = data['PURCHASES_FREQUENCY'] - data['CREDIT_LIMIT']\n",
    "mean_diff_freq_limit = data['Freq_vs_Limit'].mean()\n",
    "print(\"Alışveriş Sıklığı ve Kredi Kartı Limiti Farkının Ortalaması:\", mean_diff_freq_limit)"
   ]
  },
  {
   "cell_type": "code",
   "execution_count": 30,
   "id": "4c40bf60-28e6-4dab-ad9f-6f9acc6c92f5",
   "metadata": {
    "tags": []
   },
   "outputs": [
    {
     "name": "stdout",
     "output_type": "stream",
     "text": [
      " Alışveriş Yapan Müşteri Sayısı: 6906\n"
     ]
    }
   ],
   "source": [
    "# Alışveriş yapan müşteri sayısı\n",
    "total_purchasers = data[data['PURCHASES'] > 0]['CUST_ID'].nunique()\n",
    "print(\" Alışveriş Yapan Müşteri Sayısı:\", total_purchasers)\n"
   ]
  },
  {
   "cell_type": "code",
   "execution_count": 29,
   "id": "b97eb13a-fbe1-428b-af58-2236683ac311",
   "metadata": {
    "tags": []
   },
   "outputs": [
    {
     "name": "stdout",
     "output_type": "stream",
     "text": [
      " Ortalama Alışveriş Tutarı: 1003.2048335195531\n"
     ]
    }
   ],
   "source": [
    "# Ortalama alışveriş tutarı\n",
    "avg_purchase_amount = data['PURCHASES'].mean()\n",
    "print(\" Ortalama Alışveriş Tutarı:\", avg_purchase_amount)\n"
   ]
  },
  {
   "cell_type": "code",
   "execution_count": 31,
   "id": "f3106d56-b8b5-493c-9247-f7090464975d",
   "metadata": {
    "tags": []
   },
   "outputs": [
    {
     "name": "stdout",
     "output_type": "stream",
     "text": [
      "En Yüksek Kredi Limitine Sahip Müşteri: C15041\n"
     ]
    }
   ],
   "source": [
    "# En yüksek kredi limitine sahip müşteri\n",
    "max_credit_limit_cust = data.loc[data['CREDIT_LIMIT'].idxmax(), 'CUST_ID']\n",
    "print(\"En Yüksek Kredi Limitine Sahip Müşteri:\", max_credit_limit_cust)\n"
   ]
  },
  {
   "cell_type": "code",
   "execution_count": 32,
   "id": "b399821f-20f3-42f4-a8bf-87302c8f09f4",
   "metadata": {
    "tags": []
   },
   "outputs": [
    {
     "name": "stdout",
     "output_type": "stream",
     "text": [
      "En Yüksek Nakit Avans Veren Müşteri: C12226\n"
     ]
    }
   ],
   "source": [
    "# En yüksek nakit avans veren müşteri\n",
    "max_cash_advance_cust = data.loc[data['CASH_ADVANCE'].idxmax(), 'CUST_ID']\n",
    "print(\"En Yüksek Nakit Avans Veren Müşteri:\", max_cash_advance_cust)\n"
   ]
  },
  {
   "cell_type": "code",
   "execution_count": 33,
   "id": "791f1cca-3338-413c-bd13-77614e21f0a6",
   "metadata": {
    "tags": []
   },
   "outputs": [
    {
     "name": "stdout",
     "output_type": "stream",
     "text": [
      "Ortalama Ödeme Miktarı: 1733.1438520248046\n"
     ]
    }
   ],
   "source": [
    "# Ortalama ödeme miktarı\n",
    "avg_payment_amount = data['PAYMENTS'].mean()\n",
    "print(\"Ortalama Ödeme Miktarı:\", avg_payment_amount)\n"
   ]
  },
  {
   "cell_type": "code",
   "execution_count": 34,
   "id": "3404b22c-2444-4085-8eea-a6ece6b3a7e9",
   "metadata": {
    "tags": []
   },
   "outputs": [
    {
     "name": "stdout",
     "output_type": "stream",
     "text": [
      "En Sadık Müşteriler (En Yüksek TENURE): ['C10001', 'C10002', 'C10003', 'C10004', 'C10005']\n"
     ]
    }
   ],
   "source": [
    "# En sadık müşteriler (En yüksek TENURE'e sahip)\n",
    "most_tenured_custs = data.nlargest(5, 'TENURE')['CUST_ID'].tolist()\n",
    "print(\"En Sadık Müşteriler (En Yüksek TENURE):\", most_tenured_custs)\n"
   ]
  },
  {
   "cell_type": "code",
   "execution_count": 35,
   "id": "3cd523b3-c7d2-4e23-99b3-aa4d6e88c1fc",
   "metadata": {
    "tags": []
   },
   "outputs": [
    {
     "name": "stdout",
     "output_type": "stream",
     "text": [
      "En Yüksek Ödeme Yapan Müşteri: C14338\n"
     ]
    }
   ],
   "source": [
    "# En yüksek ödeme yapan müşteri\n",
    "max_payment_cust = data.loc[data['PAYMENTS'].idxmax(), 'CUST_ID']\n",
    "print(\"En Yüksek Ödeme Yapan Müşteri:\", max_payment_cust)\n"
   ]
  },
  {
   "cell_type": "code",
   "execution_count": 36,
   "id": "6562e54d-ae7e-4a25-bf1d-0ae5c54a3658",
   "metadata": {
    "tags": []
   },
   "outputs": [
    {
     "name": "stdout",
     "output_type": "stream",
     "text": [
      "Alışveriş Türleri (Tek Seferlik ve Taksitli) Arasındaki Farkın Ortalaması: 181.36972625698326\n"
     ]
    }
   ],
   "source": [
    "#  Alışveriş türleri (Tek seferlik ve taksitli) arasındaki fark\n",
    "data['Oneoff_vs_Installments'] = data['ONEOFF_PURCHASES'] - data['INSTALLMENTS_PURCHASES']\n",
    "mean_diff_oneoff_installments = data['Oneoff_vs_Installments'].mean()\n",
    "print(\"Alışveriş Türleri (Tek Seferlik ve Taksitli) Arasındaki Farkın Ortalaması:\", mean_diff_oneoff_installments)\n"
   ]
  },
  {
   "cell_type": "code",
   "execution_count": 38,
   "id": "00e0394a-72d9-4c04-826a-8ba6c0f23b55",
   "metadata": {
    "tags": []
   },
   "outputs": [],
   "source": [
    "# Kullanıcıların kredi kartı limiti ile yaptığı alışveriş miktarı arasındaki ilişkiyi incele\n",
    "data['Utilization_Rate'] = data['PURCHASES'] / data['CREDIT_LIMIT']\n"
   ]
  },
  {
   "cell_type": "code",
   "execution_count": 39,
   "id": "07c5cfcb-b169-4e61-bc9d-54b2dff970c4",
   "metadata": {
    "tags": []
   },
   "outputs": [
    {
     "name": "stdout",
     "output_type": "stream",
     "text": [
      "Alışveriş Frekansı Analizi:\n",
      "PURCHASES_FREQUENCY\n",
      "Çok Yüksek    3104\n",
      "Düşük         1607\n",
      "Orta          1153\n",
      "Yüksek        1043\n",
      "Name: count, dtype: int64\n"
     ]
    }
   ],
   "source": [
    "# Kullanıcıların alışveriş sıklıkları üzerinde bir analiz yapın\n",
    "purchase_freq_analysis = pd.cut(data['PURCHASES_FREQUENCY'], bins=[0, 0.25, 0.5, 0.75, 1],\n",
    "                                labels=['Düşük', 'Orta', 'Yüksek', 'Çok Yüksek']).value_counts()\n",
    "print(\"Alışveriş Frekansı Analizi:\")\n",
    "print(purchase_freq_analysis)"
   ]
  },
  {
   "cell_type": "code",
   "execution_count": 40,
   "id": "cf23b7b2-824b-44a5-bb7b-e9114c54f4f3",
   "metadata": {
    "tags": []
   },
   "outputs": [
    {
     "name": "stdout",
     "output_type": "stream",
     "text": [
      "\n",
      "Kullanım Oranı Analizi:\n",
      "Utilization_Rate\n",
      "0-20%      3533\n",
      "20-40%     1486\n",
      "40-60%      782\n",
      "60-80%      415\n",
      "80-100%     249\n",
      "Name: count, dtype: int64\n"
     ]
    }
   ],
   "source": [
    "# Kullanıcıların kredi kartı limitleri ile yaptıkları alışveriş miktarı arasındaki ilişkiyi incele\n",
    "utilization_rate_analysis = pd.cut(data['Utilization_Rate'], bins=[0, 0.2, 0.4, 0.6, 0.8, 1],\n",
    "                                   labels=['0-20%', '20-40%', '40-60%', '60-80%', '80-100%']).value_counts()\n",
    "print(\"\\nKullanım Oranı Analizi:\")\n",
    "print(utilization_rate_analysis)"
   ]
  },
  {
   "cell_type": "code",
   "execution_count": 41,
   "id": "bfa454c6-2056-4b07-8ff0-05d3bac94b98",
   "metadata": {
    "tags": []
   },
   "outputs": [
    {
     "name": "stdout",
     "output_type": "stream",
     "text": [
      "\n",
      "Ödeme Oranı Analizi:\n",
      "Payment_Ratio\n",
      "Düşük         3095\n",
      "Orta          1392\n",
      "Çok Yüksek     946\n",
      "Yüksek         839\n",
      "Name: count, dtype: int64\n"
     ]
    }
   ],
   "source": [
    "# Ödeme alışkanlıkları üzerinde bir analiz yapın\n",
    "data['Payment_Ratio'] = data['MINIMUM_PAYMENTS'] / data['PAYMENTS']\n",
    "payment_ratio_analysis = pd.cut(data['Payment_Ratio'], bins=[0, 0.25, 0.5, 0.75, 1],\n",
    "                                labels=['Düşük', 'Orta', 'Yüksek', 'Çok Yüksek']).value_counts()\n",
    "print(\"\\nÖdeme Oranı Analizi:\")\n",
    "print(payment_ratio_analysis)"
   ]
  },
  {
   "cell_type": "code",
   "execution_count": 60,
   "id": "73cf00cc-f54c-4904-a240-1bc4e2145177",
   "metadata": {
    "tags": []
   },
   "outputs": [
    {
     "name": "stdout",
     "output_type": "stream",
     "text": [
      "Alışveriş Türlerine Göre Toplam Alışveriş Miktarı:\n",
      "Purchase_Type\n",
      "Both            6290893.31\n",
      "Installments    1213403.53\n",
      "None                  0.00\n",
      "One-off         1474386.42\n",
      "Name: PURCHASES, dtype: float64\n",
      "\n",
      "En Yüksek Kredi Kartı Limitine Sahip Müşterilerin Alışveriş Sıklığı Ortalaması: 0.68819696\n",
      "\n",
      "Kredi Kartı Limiti ile Alışveriş Sıklığı Korelasyonu: 0.11978815438172262\n",
      "\n",
      "En Uzun Süreli Müşterilerin Alışveriş Türlerine Göre Dağılımı:\n",
      "Purchase_Type\n",
      "Both            33\n",
      "One-off         27\n",
      "Installments    23\n",
      "None            17\n",
      "Name: count, dtype: int64\n",
      "\n",
      "Alışveriş Türlerine Göre Ortalama Kredi Kartı Limiti:\n",
      "Purchase_Type\n",
      "Both            5738.829463\n",
      "Installments    3371.864329\n",
      "None            4026.490283\n",
      "One-off         4515.920572\n",
      "Name: CREDIT_LIMIT, dtype: float64\n"
     ]
    }
   ],
   "source": [
    "\n",
    "# Alışveriş türlerine göre müşteri segmentasyonu\n",
    "data['Purchase_Type'] = 'None'\n",
    "data.loc[(data['ONEOFF_PURCHASES'] > 0) & (data['INSTALLMENTS_PURCHASES'] == 0), 'Purchase_Type'] = 'One-off'\n",
    "data.loc[(data['ONEOFF_PURCHASES'] == 0) & (data['INSTALLMENTS_PURCHASES'] > 0), 'Purchase_Type'] = 'Installments'\n",
    "data.loc[(data['ONEOFF_PURCHASES'] > 0) & (data['INSTALLMENTS_PURCHASES'] > 0), 'Purchase_Type'] = 'Both'\n",
    "\n",
    "# Alışveriş türlerine göre gruplama ve toplam alışveriş miktarını hesaplama\n",
    "purchase_type_analysis = data.groupby('Purchase_Type')['PURCHASES'].sum()\n",
    "\n",
    "# En yüksek kredi kartı limitine sahip müşterilerin alışveriş sıklığı ortalaması\n",
    "max_credit_limit_custs = data.nlargest(100, 'CREDIT_LIMIT')\n",
    "mean_purchase_freq_max_limit = max_credit_limit_custs['PURCHASES_FREQUENCY'].mean()\n",
    "\n",
    "# Kredi kartı limiti ile alışveriş sıklığı arasındaki korelasyon\n",
    "corr_limit_freq = data['CREDIT_LIMIT'].corr(data['PURCHASES_FREQUENCY'])\n",
    "\n",
    "# En uzun süreli müşterilerin alışveriş türlerine göre dağılımı\n",
    "oldest_custs = data.nlargest(100, 'TENURE')['Purchase_Type'].value_counts()\n",
    "\n",
    "# Alışveriş türlerine göre ortalama kredi kartı limiti\n",
    "mean_credit_limit_purchase_type = data.groupby('Purchase_Type')['CREDIT_LIMIT'].mean()\n",
    "\n",
    "# Sonuçları yazdırma\n",
    "print(\"Alışveriş Türlerine Göre Toplam Alışveriş Miktarı:\")\n",
    "print(purchase_type_analysis)\n",
    "print(\"\\nEn Yüksek Kredi Kartı Limitine Sahip Müşterilerin Alışveriş Sıklığı Ortalaması:\", mean_purchase_freq_max_limit)\n",
    "print(\"\\nKredi Kartı Limiti ile Alışveriş Sıklığı Korelasyonu:\", corr_limit_freq)\n",
    "print(\"\\nEn Uzun Süreli Müşterilerin Alışveriş Türlerine Göre Dağılımı:\")\n",
    "print(oldest_custs)\n",
    "print(\"\\nAlışveriş Türlerine Göre Ortalama Kredi Kartı Limiti:\")\n",
    "print(mean_credit_limit_purchase_type)\n"
   ]
  },
  {
   "cell_type": "code",
   "execution_count": 12,
   "id": "47defd6d-7a72-4051-9d5d-9e42fea4b1b5",
   "metadata": {},
   "outputs": [
    {
     "name": "stdout",
     "output_type": "stream",
     "text": [
      "Cluster 0: En iyi özellik - ('CREDIT_LIMIT', 'mean'), En kötü özellik - ('INSTALLMENTS_PURCHASES', 'mean')\n",
      "Cluster 1: En iyi özellik - ('CREDIT_LIMIT', 'mean'), En kötü özellik - ('CASH_ADVANCE', 'mean')\n",
      "Cluster 2: En iyi özellik - ('PAYMENTS', 'mean'), En kötü özellik - ('CASH_ADVANCE', 'mean')\n",
      "Cluster 3: En iyi özellik - ('CREDIT_LIMIT', 'mean'), En kötü özellik - ('INSTALLMENTS_PURCHASES', 'mean')\n"
     ]
    }
   ],
   "source": [
    "import pandas as pd\n",
    "from sklearn.cluster import KMeans\n",
    "\n",
    "\n",
    "# Kullanılacak özellikler\n",
    "features = ['BALANCE', 'PURCHASES', 'ONEOFF_PURCHASES', 'INSTALLMENTS_PURCHASES', \n",
    "            'CASH_ADVANCE', 'CREDIT_LIMIT', 'PAYMENTS', 'MINIMUM_PAYMENTS']\n",
    "\n",
    "# Eksik değerleri doldurma\n",
    "data.fillna(method='ffill', inplace=True)\n",
    "\n",
    "# Veri normalizasyonu\n",
    "from sklearn.preprocessing import StandardScaler\n",
    "scaler = StandardScaler()\n",
    "scaled_data = scaler.fit_transform(data[features])\n",
    "\n",
    "# Modeli eğitme\n",
    "kmeans = KMeans(n_clusters=4, random_state=42, n_init=10)  # n_init parametresi eklenmiştir\n",
    "data['cluster'] = kmeans.fit_predict(scaled_data)\n",
    "\n",
    "# Her küme için istatistiksel özet\n",
    "cluster_summary = data.groupby('cluster')[features].describe()\n",
    "\n",
    "# Her küme için ortalamaları alma\n",
    "cluster_means = cluster_summary.loc[:, (slice(None), 'mean')]\n",
    "\n",
    "# Her küme için en iyi ve en kötü özellikleri bulma\n",
    "best_features = cluster_means.idxmax(axis=1)\n",
    "worst_features = cluster_means.idxmin(axis=1)\n",
    "\n",
    "# Sonuçları yazdırma\n",
    "for cluster, (best, worst) in zip(cluster_means.index, zip(best_features, worst_features)):\n",
    "    print(f\"Cluster {cluster}: En iyi özellik - {best}, En kötü özellik - {worst}\")\n"
   ]
  },
  {
   "cell_type": "code",
   "execution_count": null,
   "id": "8098be90-1980-4735-9252-135f535b443c",
   "metadata": {},
   "outputs": [],
   "source": []
  }
 ],
 "metadata": {
  "kernelspec": {
   "display_name": "Python 3 (ipykernel)",
   "language": "python",
   "name": "python3"
  },
  "language_info": {
   "codemirror_mode": {
    "name": "ipython",
    "version": 3
   },
   "file_extension": ".py",
   "mimetype": "text/x-python",
   "name": "python",
   "nbconvert_exporter": "python",
   "pygments_lexer": "ipython3",
   "version": "3.11.5"
  }
 },
 "nbformat": 4,
 "nbformat_minor": 5
}
